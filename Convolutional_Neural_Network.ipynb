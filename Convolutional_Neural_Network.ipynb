{
  "nbformat": 4,
  "nbformat_minor": 0,
  "metadata": {
    "colab": {
      "provenance": [],
      "gpuType": "T4"
    },
    "kernelspec": {
      "name": "python3",
      "display_name": "Python 3"
    },
    "language_info": {
      "name": "python"
    },
    "accelerator": "GPU"
  },
  "cells": [
    {
      "cell_type": "code",
      "execution_count": 5,
      "metadata": {
        "colab": {
          "base_uri": "https://localhost:8080/",
          "height": 970
        },
        "id": "0x0rOrOwOVAw",
        "outputId": "e9cc91a3-556d-408b-a55b-d17ee62c0650"
      },
      "outputs": [
        {
          "output_type": "stream",
          "name": "stdout",
          "text": [
            "Using Device: cuda\n"
          ]
        },
        {
          "output_type": "display_data",
          "data": {
            "text/plain": [
              "<Figure size 1500x200 with 10 Axes>"
            ],
            "image/png": "[encoded data removed]"
          },
          "metadata": {}
        },
        {
          "output_type": "stream",
          "name": "stdout",
          "text": [
            "Epoch [1/5], Step [100/938], Loss: 0.5140\n",
            "Epoch [1/5], Step [200/938], Loss: 0.1693\n",
            "Epoch [1/5], Step [300/938], Loss: 0.1167\n",
            "Epoch [1/5], Step [400/938], Loss: 0.0964\n",
            "Epoch [1/5], Step [500/938], Loss: 0.0834\n",
            "Epoch [1/5], Step [600/938], Loss: 0.0819\n",
            "Epoch [1/5], Step [700/938], Loss: 0.0662\n",
            "Epoch [1/5], Step [800/938], Loss: 0.0587\n",
            "Epoch [1/5], Step [900/938], Loss: 0.0613\n",
            "Epoch [2/5], Step [100/938], Loss: 0.0530\n",
            "Epoch [2/5], Step [200/938], Loss: 0.0420\n",
            "Epoch [2/5], Step [300/938], Loss: 0.0462\n",
            "Epoch [2/5], Step [400/938], Loss: 0.0400\n",
            "Epoch [2/5], Step [500/938], Loss: 0.0402\n",
            "Epoch [2/5], Step [600/938], Loss: 0.0408\n",
            "Epoch [2/5], Step [700/938], Loss: 0.0428\n",
            "Epoch [2/5], Step [800/938], Loss: 0.0469\n",
            "Epoch [2/5], Step [900/938], Loss: 0.0422\n",
            "Epoch [3/5], Step [100/938], Loss: 0.0292\n",
            "Epoch [3/5], Step [200/938], Loss: 0.0283\n",
            "Epoch [3/5], Step [300/938], Loss: 0.0334\n",
            "Epoch [3/5], Step [400/938], Loss: 0.0308\n",
            "Epoch [3/5], Step [500/938], Loss: 0.0310\n",
            "Epoch [3/5], Step [600/938], Loss: 0.0268\n",
            "Epoch [3/5], Step [700/938], Loss: 0.0259\n",
            "Epoch [3/5], Step [800/938], Loss: 0.0329\n",
            "Epoch [3/5], Step [900/938], Loss: 0.0291\n",
            "Epoch [4/5], Step [100/938], Loss: 0.0153\n",
            "Epoch [4/5], Step [200/938], Loss: 0.0240\n",
            "Epoch [4/5], Step [300/938], Loss: 0.0178\n",
            "Epoch [4/5], Step [400/938], Loss: 0.0227\n",
            "Epoch [4/5], Step [500/938], Loss: 0.0190\n",
            "Epoch [4/5], Step [600/938], Loss: 0.0211\n",
            "Epoch [4/5], Step [700/938], Loss: 0.0279\n",
            "Epoch [4/5], Step [800/938], Loss: 0.0183\n",
            "Epoch [4/5], Step [900/938], Loss: 0.0235\n",
            "Epoch [5/5], Step [100/938], Loss: 0.0161\n",
            "Epoch [5/5], Step [200/938], Loss: 0.0124\n",
            "Epoch [5/5], Step [300/938], Loss: 0.0136\n",
            "Epoch [5/5], Step [400/938], Loss: 0.0174\n",
            "Epoch [5/5], Step [500/938], Loss: 0.0244\n",
            "Epoch [5/5], Step [600/938], Loss: 0.0159\n",
            "Epoch [5/5], Step [700/938], Loss: 0.0109\n",
            "Epoch [5/5], Step [800/938], Loss: 0.0208\n",
            "Epoch [5/5], Step [900/938], Loss: 0.0206\n",
            "Time taken: 71.6361 seconds\n"
          ]
        }
      ],
      "source": [
        "import torch\n",
        "import torch.nn as nn\n",
        "import torch.optim as optim\n",
        "import torchvision\n",
        "import torchvision.transforms as transforms\n",
        "from torch.utils.data import DataLoader\n",
        "import time\n",
        "import matplotlib.pyplot as plt\n",
        "\n",
        "from torch.utils.data import DataLoader\n",
        "import time\n",
        "import matplotlib.pyplot as plt\n",
        "\n",
        "device=torch.device(\"cuda\" if torch.cuda.is_available() else \"cpu\")\n",
        "print(f\"Using Device: {device}\")\n",
        "\n",
        "\n",
        "transform = transforms.Compose([\n",
        "\ttransforms.ToTensor(),\n",
        "\ttransforms.Normalize((0.1307,), (0.3081,))\n",
        "])\n",
        "\n",
        "train_dataset = torchvision.datasets.MNIST(root = './data', train = True, download = True, transform = transform)\n",
        "test_dataset = torchvision.datasets.MNIST(root = './data', train = False, download = True, transform = transform)\n",
        "\n",
        "\n",
        "train_loader = DataLoader(train_dataset, batch_size = 64, shuffle = True)\n",
        "test_loader = DataLoader(test_dataset, batch_size = 1000, shuffle = False)\n",
        "\n",
        "fig, axes = plt.subplots(1, 10, figsize = (15, 2))\n",
        "\n",
        "for i in range(10):\n",
        "  image, label = train_dataset[i]\n",
        "  axes[i].imshow(image.squeeze(), cmap = 'gray')\n",
        "  axes[i].set_title(f'Class : {label}')\n",
        "  axes[i].axis('off')\n",
        "\n",
        "plt.show()\n",
        "\n",
        "\n",
        "class CNN_example(nn.Module):\n",
        "  def __init__(self):\n",
        "    super(CNN_example, self).__init__()\n",
        "    self.conv1 = nn.Conv2d(1, 32, kernel_size = 3, stride = 1, padding = 1)\n",
        "    self.conv2 = nn.Conv2d(32, 64, kernel_size = 3, stride = 1, padding = 1)\n",
        "    self.pool = nn.MaxPool2d(kernel_size = 2, stride = 2)\n",
        "    self.relu = nn.ReLU();\n",
        "    self.fc1 = nn.Linear(64 * 7 * 7, 128)\n",
        "    self.fc2 = nn.Linear(128, 10)\n",
        "\n",
        "  def forward (self, x):\n",
        "    x = self.relu(self.conv1(x))\n",
        "    x = self.pool(x)\n",
        "    x = self.relu(self.conv2(x))\n",
        "    x = self.pool(x)\n",
        "    x = x.view (-1, 64 * 7 * 7)\n",
        "    #x = self.fc1(x)\n",
        "    x = self.relu(self.fc1(x))\n",
        "    x = self.fc2(x)\n",
        "    #x = self.relu(self.fc1(x))\n",
        "    return x\n",
        "\n",
        "\n",
        "start_time = time.time()\n",
        "model=CNN_example().to(device)\n",
        "criterion=nn.CrossEntropyLoss()\n",
        "optimizer=optim.Adam(model.parameters(),lr=0.001)\n",
        "num_epochs=5\n",
        "for epoch in range(num_epochs):\n",
        "    model.train()\n",
        "    running_loss=0\n",
        "    for i,(images,labels) in enumerate(train_loader):\n",
        "        images,labels=images.to(device), labels.to(device)\n",
        "\n",
        "        optimizer.zero_grad()\n",
        "        outputs=model(images)\n",
        "        loss=criterion(outputs,labels)\n",
        "        loss.backward()\n",
        "        optimizer.step()\n",
        "\n",
        "        running_loss+=loss.item()\n",
        "\n",
        "        if(i+1)%100==0:\n",
        "            print(f'Epoch [{epoch+1}/{num_epochs}], Step [{i+1}/{len(train_loader)}], Loss: {running_loss/100:.4f}')\n",
        "            running_loss = 0.0\n",
        "end_time = time.time()\n",
        "execution_time = end_time - start_time\n",
        "print(f\"Time taken: {execution_time:.4f} seconds\")"
      ]
    },
    {
      "cell_type": "code",
      "source": [
        "# Evaluate on test set\n",
        "model.eval()\n",
        "correct = 0\n",
        "total = 0\n",
        "\n",
        "with torch.no_grad():\n",
        "    for images, labels in test_loader:\n",
        "        images, labels = images.to(device), labels.to(device)\n",
        "        outputs = model(images)\n",
        "        _, predicted = torch.max(outputs.data, 1)\n",
        "        total += labels.size(0)\n",
        "        correct += (predicted == labels).sum().item()\n",
        "\n",
        "test_accuracy = 100 * correct / total\n",
        "print(f\"Test Accuracy: {test_accuracy:.2f}%\")\n"
      ],
      "metadata": {
        "colab": {
          "base_uri": "https://localhost:8080/"
        },
        "id": "jJ5po8edz59m",
        "outputId": "c754dbcd-0553-4a3f-c2ff-47cbb29bdec8"
      },
      "execution_count": 6,
      "outputs": [
        {
          "output_type": "stream",
          "name": "stdout",
          "text": [
            "Test Accuracy: 99.13%\n"
          ]
        }
      ]
    }
  ]
}